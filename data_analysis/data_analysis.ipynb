{
 "metadata": {
  "language_info": {
   "codemirror_mode": {
    "name": "ipython",
    "version": 3
   },
   "file_extension": ".py",
   "mimetype": "text/x-python",
   "name": "python",
   "nbconvert_exporter": "python",
   "pygments_lexer": "ipython3",
   "version": "3.8.3-final"
  },
  "orig_nbformat": 2,
  "kernelspec": {
   "name": "python3",
   "display_name": "Python 3",
   "language": "python"
  }
 },
 "nbformat": 4,
 "nbformat_minor": 2,
 "cells": [
  {
   "source": [
    "# Data Analysis\n",
    "Wine Reviews scraped from wine-mag.com"
   ],
   "cell_type": "markdown",
   "metadata": {}
  },
  {
   "cell_type": "code",
   "execution_count": 1,
   "metadata": {},
   "outputs": [],
   "source": [
    "import pandas as pd\n",
    "from tabulate import tabulate"
   ]
  },
  {
   "source": [
    "## Load data"
   ],
   "cell_type": "markdown",
   "metadata": {}
  },
  {
   "cell_type": "code",
   "execution_count": 2,
   "metadata": {},
   "outputs": [],
   "source": [
    "df = pd.read_pickle(\"../data/data.pkl\")"
   ]
  },
  {
   "cell_type": "code",
   "execution_count": 3,
   "metadata": {},
   "outputs": [
    {
     "output_type": "stream",
     "name": "stdout",
     "text": [
      "There are 182252 unique descriptions.\nThere are 168203 unique titles.\n"
     ]
    }
   ],
   "source": [
    "print(\"There are \" + str(len(df['description'].unique())) + \" unique descriptions.\")\n",
    "print(\"There are \" + str(len(df['title'].unique())) + \" unique titles.\")"
   ]
  },
  {
   "source": [
    "## NaN values"
   ],
   "cell_type": "markdown",
   "metadata": {}
  },
  {
   "cell_type": "code",
   "execution_count": 4,
   "metadata": {},
   "outputs": [],
   "source": [
    "na_title = df.loc[df[\"title\"].isna()]\n",
    "na_price = df.loc[df[\"price\"].isna()]\n",
    "na_variety = df.loc[df[\"variety\"].isna()]\n",
    "na_province = df.loc[df[\"province\"].isna()]\n",
    "na_country = df.loc[df[\"country\"].isna()]\n",
    "na_points = df.loc[df[\"points\"].isna()]"
   ]
  },
  {
   "cell_type": "code",
   "execution_count": 6,
   "metadata": {
    "tags": []
   },
   "outputs": [
    {
     "output_type": "stream",
     "name": "stdout",
     "text": [
      "+----------+--------------+\n|          |   NaN Values |\n+==========+==============+\n| title    |            0 |\n+----------+--------------+\n| price    |        11762 |\n+----------+--------------+\n| variety  |            1 |\n+----------+--------------+\n| province |           64 |\n+----------+--------------+\n| country  |           64 |\n+----------+--------------+\n| points   |            0 |\n+----------+--------------+\n"
     ]
    }
   ],
   "source": [
    "nans = pd.DataFrame({'NaN Values': [len(na_title), len(na_price), \n",
    "        len(na_variety), len(na_province), len(na_country), len(na_points)]},\n",
    "        index=[\"title\", \"price\", \"variety\", \"province\", \"country\", \"points\"])\n",
    "\n",
    "print(nans.to_markdown(tablefmt=\"grid\"))"
   ]
  }
 ]
}